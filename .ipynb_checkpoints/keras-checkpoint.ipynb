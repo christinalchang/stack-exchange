{
 "cells": [
  {
   "cell_type": "code",
   "execution_count": 157,
   "metadata": {},
   "outputs": [],
   "source": [
    "import numpy as np\n",
    "import pandas as pd\n",
    "import pickle\n",
    "import numpy as np"
   ]
  },
  {
   "cell_type": "code",
   "execution_count": null,
   "metadata": {},
   "outputs": [],
   "source": [
    "# Code is referenced from https://blog.mimacom.com/text-classification/"
   ]
  },
  {
   "cell_type": "code",
   "execution_count": 158,
   "metadata": {},
   "outputs": [],
   "source": [
    "# INPUT CLEANED DATAFRAME \n",
    "#df_questions = pd.read_pickle(\"./cleaned_trim/biology_trim_clean.dat\")\n",
    "#df_questions = pd.read_pickle(\"./cleaned_trim/cooking_trim_clean.dat\")\n",
    "#df_questions = pd.read_pickle(\"./cleaned_trim/diy_trim_clean.dat\")\n",
    "df_questions = pd.read_pickle(\"./cleaned_trim/robotics_trim_clean.dat\")"
   ]
  },
  {
   "cell_type": "code",
   "execution_count": 159,
   "metadata": {},
   "outputs": [],
   "source": [
    "# make tags column into list of tags\n",
    "split_list = [tags.split(\" \") for tags in list(df_questions['tags'])]\n",
    "df_questions['tags'] = split_list"
   ]
  },
  {
   "cell_type": "markdown",
   "metadata": {},
   "source": [
    "### reduce tags"
   ]
  },
  {
   "cell_type": "code",
   "execution_count": 160,
   "metadata": {},
   "outputs": [],
   "source": [
    "split = [item for sublist in split_list for item in sublist]\n",
    "df_tags = pd.DataFrame(split)\n",
    "df_tags.columns = ['Tag']"
   ]
  },
  {
   "cell_type": "code",
   "execution_count": 161,
   "metadata": {},
   "outputs": [
    {
     "data": {
      "text/plain": [
       "count         212\n",
       "unique        212\n",
       "top       labview\n",
       "freq            1\n",
       "Name: Tag, dtype: object"
      ]
     },
     "execution_count": 161,
     "metadata": {},
     "output_type": "execute_result"
    }
   ],
   "source": [
    "grouped_tags = df_tags.groupby(\"Tag\", sort='count').size().reset_index(name='count')\n",
    "grouped_tags.Tag.describe()"
   ]
  },
  {
   "cell_type": "code",
   "execution_count": 162,
   "metadata": {},
   "outputs": [],
   "source": [
    "num_classes = 100\n",
    "grouped_tags = df_tags.groupby(\"Tag\").size().reset_index(name='count')\n",
    "most_common_tags = grouped_tags.nlargest(num_classes, columns=\"count\")\n",
    "df_tags.Tag = df_tags.Tag.apply(lambda tag : tag if tag in most_common_tags.Tag.values else None)\n",
    "df_tags = df_tags.dropna()"
   ]
  },
  {
   "cell_type": "code",
   "execution_count": 163,
   "metadata": {},
   "outputs": [
    {
     "name": "stdout",
     "output_type": "stream",
     "text": [
      "['localization', 'mobile-robot']\n"
     ]
    }
   ],
   "source": [
    "# only keep the tags in the top 100\n",
    "\n",
    "# list of unique tags\n",
    "unique = list(set(df_tags.Tag))\n",
    "tmp = df_questions.tags[5]\n",
    "print(tmp)\n",
    "\n",
    "def tags_in_100(i, unique):\n",
    "    \"Input list of tags and top 100 tags. Return words in the original list that are also in top 100.\"\n",
    "    values = [x for x in i if x in unique]\n",
    "    return values"
   ]
  },
  {
   "cell_type": "code",
   "execution_count": 164,
   "metadata": {},
   "outputs": [
    {
     "data": {
      "text/html": [
       "<div>\n",
       "<style scoped>\n",
       "    .dataframe tbody tr th:only-of-type {\n",
       "        vertical-align: middle;\n",
       "    }\n",
       "\n",
       "    .dataframe tbody tr th {\n",
       "        vertical-align: top;\n",
       "    }\n",
       "\n",
       "    .dataframe thead th {\n",
       "        text-align: right;\n",
       "    }\n",
       "</style>\n",
       "<table border=\"1\" class=\"dataframe\">\n",
       "  <thead>\n",
       "    <tr style=\"text-align: right;\">\n",
       "      <th></th>\n",
       "      <th>original</th>\n",
       "      <th>top100</th>\n",
       "    </tr>\n",
       "  </thead>\n",
       "  <tbody>\n",
       "    <tr>\n",
       "      <th>0</th>\n",
       "      <td>[soccer, control]</td>\n",
       "      <td>[control]</td>\n",
       "    </tr>\n",
       "    <tr>\n",
       "      <th>1</th>\n",
       "      <td>[control, rcservo]</td>\n",
       "      <td>[control, rcservo]</td>\n",
       "    </tr>\n",
       "    <tr>\n",
       "      <th>2</th>\n",
       "      <td>[microcontroller, arduino, raspberry-pi]</td>\n",
       "      <td>[microcontroller, arduino, raspberry-pi]</td>\n",
       "    </tr>\n",
       "    <tr>\n",
       "      <th>3</th>\n",
       "      <td>[odometry, localization, kalman-filter]</td>\n",
       "      <td>[odometry, localization, kalman-filter]</td>\n",
       "    </tr>\n",
       "    <tr>\n",
       "      <th>4</th>\n",
       "      <td>[quadcopter]</td>\n",
       "      <td>[quadcopter]</td>\n",
       "    </tr>\n",
       "    <tr>\n",
       "      <th>5</th>\n",
       "      <td>[localization, mobile-robot]</td>\n",
       "      <td>[localization, mobile-robot]</td>\n",
       "    </tr>\n",
       "    <tr>\n",
       "      <th>6</th>\n",
       "      <td>[control, gyroscope, balance, two-wheeled]</td>\n",
       "      <td>[control, gyroscope, balance, two-wheeled]</td>\n",
       "    </tr>\n",
       "    <tr>\n",
       "      <th>7</th>\n",
       "      <td>[localization, gps]</td>\n",
       "      <td>[localization, gps]</td>\n",
       "    </tr>\n",
       "    <tr>\n",
       "      <th>8</th>\n",
       "      <td>[slam, localization, gps, mapping, acoustic-ra...</td>\n",
       "      <td>[slam, localization, gps, mapping]</td>\n",
       "    </tr>\n",
       "    <tr>\n",
       "      <th>9</th>\n",
       "      <td>[sensors, failure, motor]</td>\n",
       "      <td>[sensors, motor]</td>\n",
       "    </tr>\n",
       "  </tbody>\n",
       "</table>\n",
       "</div>"
      ],
      "text/plain": [
       "                                            original  \\\n",
       "0                                  [soccer, control]   \n",
       "1                                 [control, rcservo]   \n",
       "2           [microcontroller, arduino, raspberry-pi]   \n",
       "3            [odometry, localization, kalman-filter]   \n",
       "4                                       [quadcopter]   \n",
       "5                       [localization, mobile-robot]   \n",
       "6         [control, gyroscope, balance, two-wheeled]   \n",
       "7                                [localization, gps]   \n",
       "8  [slam, localization, gps, mapping, acoustic-ra...   \n",
       "9                          [sensors, failure, motor]   \n",
       "\n",
       "                                       top100  \n",
       "0                                   [control]  \n",
       "1                          [control, rcservo]  \n",
       "2    [microcontroller, arduino, raspberry-pi]  \n",
       "3     [odometry, localization, kalman-filter]  \n",
       "4                                [quadcopter]  \n",
       "5                [localization, mobile-robot]  \n",
       "6  [control, gyroscope, balance, two-wheeled]  \n",
       "7                         [localization, gps]  \n",
       "8          [slam, localization, gps, mapping]  \n",
       "9                            [sensors, motor]  "
      ]
     },
     "execution_count": 164,
     "metadata": {},
     "output_type": "execute_result"
    }
   ],
   "source": [
    "only_top_100 = [tags_in_100(i, unique) for i in df_questions.tags]\n",
    "pd.DataFrame({\"original\" :np.array(df_questions.tags), \"top100\":np.array(only_top_100)}).head(10)"
   ]
  },
  {
   "cell_type": "code",
   "execution_count": 165,
   "metadata": {},
   "outputs": [
    {
     "data": {
      "text/html": [
       "<div>\n",
       "<style scoped>\n",
       "    .dataframe tbody tr th:only-of-type {\n",
       "        vertical-align: middle;\n",
       "    }\n",
       "\n",
       "    .dataframe tbody tr th {\n",
       "        vertical-align: top;\n",
       "    }\n",
       "\n",
       "    .dataframe thead th {\n",
       "        text-align: right;\n",
       "    }\n",
       "</style>\n",
       "<table border=\"1\" class=\"dataframe\">\n",
       "  <thead>\n",
       "    <tr style=\"text-align: right;\">\n",
       "      <th></th>\n",
       "      <th>text</th>\n",
       "      <th>tags</th>\n",
       "    </tr>\n",
       "  </thead>\n",
       "  <tbody>\n",
       "    <tr>\n",
       "      <th>0</th>\n",
       "      <td>right approach write spin controller soccer ro...</td>\n",
       "      <td>[control]</td>\n",
       "    </tr>\n",
       "    <tr>\n",
       "      <th>1</th>\n",
       "      <td>modify low cost hobby servo run get hobby serv...</td>\n",
       "      <td>[control, rcservo]</td>\n",
       "    </tr>\n",
       "    <tr>\n",
       "      <th>2</th>\n",
       "      <td>good robotics project look starting point proj...</td>\n",
       "      <td>[microcontroller, arduino, raspberry-pi]</td>\n",
       "    </tr>\n",
       "    <tr>\n",
       "      <th>3</th>\n",
       "      <td>good method tune process noise kalman filter o...</td>\n",
       "      <td>[odometry, localization, kalman-filter]</td>\n",
       "    </tr>\n",
       "    <tr>\n",
       "      <th>4</th>\n",
       "      <td>choose right combination quadcopter many site ...</td>\n",
       "      <td>[quadcopter]</td>\n",
       "    </tr>\n",
       "  </tbody>\n",
       "</table>\n",
       "</div>"
      ],
      "text/plain": [
       "                                                text  \\\n",
       "0  right approach write spin controller soccer ro...   \n",
       "1  modify low cost hobby servo run get hobby serv...   \n",
       "2  good robotics project look starting point proj...   \n",
       "3  good method tune process noise kalman filter o...   \n",
       "4  choose right combination quadcopter many site ...   \n",
       "\n",
       "                                       tags  \n",
       "0                                 [control]  \n",
       "1                        [control, rcservo]  \n",
       "2  [microcontroller, arduino, raspberry-pi]  \n",
       "3   [odometry, localization, kalman-filter]  \n",
       "4                              [quadcopter]  "
      ]
     },
     "execution_count": 165,
     "metadata": {},
     "output_type": "execute_result"
    }
   ],
   "source": [
    "# Change question df to only include top 100\n",
    "df_questions['tags'] = only_top_100\n",
    "df_questions.head()"
   ]
  },
  {
   "cell_type": "markdown",
   "metadata": {},
   "source": [
    "### tokenize text & split/train"
   ]
  },
  {
   "cell_type": "code",
   "execution_count": 166,
   "metadata": {},
   "outputs": [],
   "source": [
    "from keras.preprocessing.text import Tokenizer\n",
    "from keras.preprocessing.sequence import pad_sequences\n",
    "from sklearn.preprocessing import MultiLabelBinarizer\n",
    "\n",
    "multilabel_binarizer = MultiLabelBinarizer()\n",
    "multilabel_binarizer.fit(df_questions.tags)\n",
    "labels = multilabel_binarizer.classes_\n",
    "\n",
    "maxlen = 180\n",
    "max_words = 5000\n",
    "tokenizer = Tokenizer(num_words=max_words, lower=True)\n",
    "tokenizer.fit_on_texts(df_questions.text)\n",
    "\n",
    "def get_features(text_series):\n",
    "    \"\"\"\n",
    "    transforms text data to feature_vectors that can be used in the ml model.\n",
    "    tokenizer must be available.\n",
    "    \"\"\"\n",
    "    sequences = tokenizer.texts_to_sequences(text_series)\n",
    "    return pad_sequences(sequences, maxlen=maxlen)\n",
    "\n",
    "\n",
    "def prediction_to_label(prediction):\n",
    "    tag_prob = [(labels[i], prob) for i, prob in enumerate(prediction.tolist())]\n",
    "    return dict(sorted(tag_prob, key=lambda kv: kv[1], reverse=True))"
   ]
  },
  {
   "cell_type": "code",
   "execution_count": 201,
   "metadata": {},
   "outputs": [
    {
     "name": "stdout",
     "output_type": "stream",
     "text": [
      "(1732, 180)\n"
     ]
    }
   ],
   "source": [
    "from sklearn.model_selection import train_test_split\n",
    "\n",
    "x = get_features(df_questions.text)\n",
    "y = multilabel_binarizer.transform(df_questions.tags)\n",
    "print(x.shape)\n",
    "\n",
    "x_train, x_test, y_train, y_test = train_test_split(x, y, test_size=0.3, random_state=9000)"
   ]
  },
  {
   "cell_type": "code",
   "execution_count": 207,
   "metadata": {},
   "outputs": [
    {
     "name": "stdout",
     "output_type": "stream",
     "text": [
      "(1732, 180)\n"
     ]
    }
   ],
   "source": [
    "from sklearn.model_selection import train_test_split\n",
    "\n",
    "x = get_features(df_questions.text)\n",
    "y = multilabel_binarizer.transform(df_questions.tags)\n",
    "print(x.shape)\n",
    "\n",
    "indices = range(np.shape(x)[0])\n",
    "x_train, x_test, y_train, y_test,indices_train,indices_test = train_test_split(x, y, indices,test_size=0.3, random_state=9000)"
   ]
  },
  {
   "cell_type": "markdown",
   "metadata": {},
   "source": [
    "### imbalanced classes"
   ]
  },
  {
   "cell_type": "code",
   "execution_count": 199,
   "metadata": {
    "scrolled": true
   },
   "outputs": [
    {
     "data": {
      "text/html": [
       "<div>\n",
       "<style scoped>\n",
       "    .dataframe tbody tr th:only-of-type {\n",
       "        vertical-align: middle;\n",
       "    }\n",
       "\n",
       "    .dataframe tbody tr th {\n",
       "        vertical-align: top;\n",
       "    }\n",
       "\n",
       "    .dataframe thead th {\n",
       "        text-align: right;\n",
       "    }\n",
       "</style>\n",
       "<table border=\"1\" class=\"dataframe\">\n",
       "  <thead>\n",
       "    <tr style=\"text-align: right;\">\n",
       "      <th></th>\n",
       "      <th>Tag</th>\n",
       "      <th>count</th>\n",
       "      <th>class_weight</th>\n",
       "    </tr>\n",
       "  </thead>\n",
       "  <tbody>\n",
       "    <tr>\n",
       "      <th>146</th>\n",
       "      <td>quadcopter</td>\n",
       "      <td>306</td>\n",
       "      <td>13.852941</td>\n",
       "    </tr>\n",
       "    <tr>\n",
       "      <th>114</th>\n",
       "      <td>mobile-robot</td>\n",
       "      <td>295</td>\n",
       "      <td>14.369492</td>\n",
       "    </tr>\n",
       "    <tr>\n",
       "      <th>7</th>\n",
       "      <td>arduino</td>\n",
       "      <td>282</td>\n",
       "      <td>15.031915</td>\n",
       "    </tr>\n",
       "    <tr>\n",
       "      <th>34</th>\n",
       "      <td>control</td>\n",
       "      <td>255</td>\n",
       "      <td>16.623529</td>\n",
       "    </tr>\n",
       "    <tr>\n",
       "      <th>117</th>\n",
       "      <td>motor</td>\n",
       "      <td>239</td>\n",
       "      <td>17.736402</td>\n",
       "    </tr>\n",
       "  </tbody>\n",
       "</table>\n",
       "</div>"
      ],
      "text/plain": [
       "              Tag  count  class_weight\n",
       "146    quadcopter    306     13.852941\n",
       "114  mobile-robot    295     14.369492\n",
       "7         arduino    282     15.031915\n",
       "34        control    255     16.623529\n",
       "117         motor    239     17.736402"
      ]
     },
     "execution_count": 199,
     "metadata": {},
     "output_type": "execute_result"
    }
   ],
   "source": [
    "most_common_tags['class_weight'] = len(df_tags) / most_common_tags['count']\n",
    "class_weight = {}\n",
    "for index, label in enumerate(labels): \n",
    "    class_weight[index] = most_common_tags[most_common_tags['Tag'] == label]['class_weight'].values[0]\n",
    "    \n",
    "most_common_tags.head()"
   ]
  },
  {
   "cell_type": "markdown",
   "metadata": {},
   "source": [
    "### build 1-d convolutional neural network"
   ]
  },
  {
   "cell_type": "code",
   "execution_count": 200,
   "metadata": {
    "scrolled": true
   },
   "outputs": [
    {
     "name": "stdout",
     "output_type": "stream",
     "text": [
      "_________________________________________________________________\n",
      "Layer (type)                 Output Shape              Param #   \n",
      "=================================================================\n",
      "embedding_9 (Embedding)      (None, 180, 20)           100000    \n",
      "_________________________________________________________________\n",
      "dropout_9 (Dropout)          (None, 180, 20)           0         \n",
      "_________________________________________________________________\n",
      "conv1d_9 (Conv1D)            (None, 178, 300)          18300     \n",
      "_________________________________________________________________\n",
      "global_max_pooling1d_9 (Glob (None, 300)               0         \n",
      "_________________________________________________________________\n",
      "dense_9 (Dense)              (None, 100)               30100     \n",
      "_________________________________________________________________\n",
      "activation_9 (Activation)    (None, 100)               0         \n",
      "=================================================================\n",
      "Total params: 148,400\n",
      "Trainable params: 148,400\n",
      "Non-trainable params: 0\n",
      "_________________________________________________________________\n",
      "Train on 1090 samples, validate on 122 samples\n",
      "Epoch 1/20\n",
      "1090/1090 [==============================] - 2s 2ms/step - loss: 50.1143 - categorical_accuracy: 0.0147 - val_loss: 27.9049 - val_categorical_accuracy: 0.0164\n",
      "Epoch 2/20\n",
      "1090/1090 [==============================] - 1s 710us/step - loss: 14.5099 - categorical_accuracy: 0.0550 - val_loss: 11.0816 - val_categorical_accuracy: 0.0902\n",
      "Epoch 3/20\n",
      "1090/1090 [==============================] - 1s 881us/step - loss: 10.8117 - categorical_accuracy: 0.0486 - val_loss: 11.0203 - val_categorical_accuracy: 0.0492\n",
      "Epoch 4/20\n",
      "1090/1090 [==============================] - 1s 827us/step - loss: 10.6288 - categorical_accuracy: 0.0651 - val_loss: 10.9692 - val_categorical_accuracy: 0.0492\n",
      "Epoch 5/20\n",
      "1090/1090 [==============================] - 1s 624us/step - loss: 10.5794 - categorical_accuracy: 0.0532 - val_loss: 10.9631 - val_categorical_accuracy: 0.0410\n",
      "Epoch 6/20\n",
      "1090/1090 [==============================] - 1s 615us/step - loss: 10.5448 - categorical_accuracy: 0.0688 - val_loss: 10.9463 - val_categorical_accuracy: 0.1393\n",
      "Epoch 7/20\n",
      "1090/1090 [==============================] - 1s 618us/step - loss: 10.5218 - categorical_accuracy: 0.0716 - val_loss: 10.9281 - val_categorical_accuracy: 0.0984\n",
      "Epoch 8/20\n",
      "1090/1090 [==============================] - 1s 589us/step - loss: 10.4868 - categorical_accuracy: 0.0853 - val_loss: 10.8926 - val_categorical_accuracy: 0.0984\n",
      "Epoch 9/20\n",
      "1090/1090 [==============================] - 1s 583us/step - loss: 10.4647 - categorical_accuracy: 0.0688 - val_loss: 10.9233 - val_categorical_accuracy: 0.1475\n",
      "Epoch 10/20\n",
      "1090/1090 [==============================] - 1s 600us/step - loss: 10.4185 - categorical_accuracy: 0.0963 - val_loss: 10.8673 - val_categorical_accuracy: 0.1230\n",
      "Epoch 11/20\n",
      "1090/1090 [==============================] - 1s 595us/step - loss: 10.3694 - categorical_accuracy: 0.1009 - val_loss: 10.8220 - val_categorical_accuracy: 0.1311\n",
      "Epoch 12/20\n",
      "1090/1090 [==============================] - 1s 590us/step - loss: 10.3142 - categorical_accuracy: 0.1055 - val_loss: 10.7596 - val_categorical_accuracy: 0.1393\n",
      "Epoch 13/20\n",
      "1090/1090 [==============================] - 1s 630us/step - loss: 10.2391 - categorical_accuracy: 0.1119 - val_loss: 10.6165 - val_categorical_accuracy: 0.1230\n",
      "Epoch 14/20\n",
      "1090/1090 [==============================] - 1s 612us/step - loss: 10.1303 - categorical_accuracy: 0.1147 - val_loss: 10.5739 - val_categorical_accuracy: 0.1230\n",
      "Epoch 15/20\n",
      "1090/1090 [==============================] - 1s 601us/step - loss: 10.0059 - categorical_accuracy: 0.1202 - val_loss: 10.4965 - val_categorical_accuracy: 0.1230\n",
      "Epoch 16/20\n",
      "1090/1090 [==============================] - 1s 601us/step - loss: 9.8976 - categorical_accuracy: 0.1229 - val_loss: 10.4364 - val_categorical_accuracy: 0.1230\n",
      "Epoch 17/20\n",
      "1090/1090 [==============================] - 1s 599us/step - loss: 9.7560 - categorical_accuracy: 0.1202 - val_loss: 10.3801 - val_categorical_accuracy: 0.1393\n",
      "Epoch 18/20\n",
      "1090/1090 [==============================] - 1s 599us/step - loss: 9.6031 - categorical_accuracy: 0.1477 - val_loss: 10.2951 - val_categorical_accuracy: 0.1393\n",
      "Epoch 19/20\n",
      "1090/1090 [==============================] - 1s 598us/step - loss: 9.4559 - categorical_accuracy: 0.1312 - val_loss: 10.2143 - val_categorical_accuracy: 0.1557\n",
      "Epoch 20/20\n",
      "1090/1090 [==============================] - 1s 616us/step - loss: 9.2330 - categorical_accuracy: 0.1569 - val_loss: 10.0770 - val_categorical_accuracy: 0.1721\n"
     ]
    }
   ],
   "source": [
    "from keras.models import Sequential\n",
    "from keras.layers import Dense, Activation, Embedding, Flatten, GlobalMaxPool1D, Dropout, Conv1D\n",
    "from keras.callbacks import ReduceLROnPlateau, EarlyStopping, ModelCheckpoint\n",
    "from keras.losses import binary_crossentropy\n",
    "from keras.optimizers import Adam\n",
    "\n",
    "filter_length = 300\n",
    "\n",
    "model = Sequential()\n",
    "model.add(Embedding(max_words, 20, input_length=maxlen))\n",
    "model.add(Dropout(0.1))\n",
    "model.add(Conv1D(filter_length, 3, padding='valid', activation='relu', strides=1))\n",
    "model.add(GlobalMaxPool1D())\n",
    "model.add(Dense(num_classes))\n",
    "model.add(Activation('sigmoid'))\n",
    "\n",
    "model.compile(optimizer='adam', loss='binary_crossentropy', metrics=['categorical_accuracy'])\n",
    "model.summary()\n",
    "\n",
    "callbacks = [\n",
    "    ReduceLROnPlateau(), \n",
    "    EarlyStopping(patience=4), \n",
    "    ModelCheckpoint(filepath='model-conv1d.h5', save_best_only=True)\n",
    "]\n",
    "\n",
    "history = model.fit(x_train, y_train,\n",
    "                    class_weight=class_weight,\n",
    "                    epochs=20,\n",
    "                    batch_size=32,\n",
    "                    validation_split=0.1,\n",
    "                    callbacks=callbacks)"
   ]
  },
  {
   "cell_type": "code",
   "execution_count": 170,
   "metadata": {},
   "outputs": [
    {
     "name": "stdout",
     "output_type": "stream",
     "text": [
      "520/520 [==============================] - 0s 887us/step\n",
      "loss: 0.09486494660377502\n",
      "categorical_accuracy: 0.17115384615384616\n"
     ]
    }
   ],
   "source": [
    "import keras.models \n",
    "cnn_model = keras.models.load_model('model-conv1d.h5')\n",
    "metrics = cnn_model.evaluate(x_test, y_test)\n",
    "print(\"{}: {}\".format(model.metrics_names[0], metrics[0]))\n",
    "print(\"{}: {}\".format(model.metrics_names[1], metrics[1]))"
   ]
  },
  {
   "cell_type": "code",
   "execution_count": 171,
   "metadata": {},
   "outputs": [],
   "source": [
    "def top_keys(q): \n",
    "    \"\"\"Returns the top tags with a threshold for probability\"\"\"\n",
    "    f = get_features([q])\n",
    "    p1 = prediction_to_label(cnn_model.predict(f)[0])\n",
    "    thresh_keys = dict((k, v) for k, v in p1.items() if v >= 0.1)\n",
    "    keys = list(thresh_keys.keys())\n",
    "\n",
    "    if len(thresh_keys) > 5:\n",
    "        thresh_df = pd.DataFrame.from_dict(p1, orient='index')\n",
    "        keys = list(thresh_df.nlargest(5, 0).index)\n",
    "\n",
    "    if len(thresh_keys) == 0:\n",
    "        thresh_df = pd.DataFrame.from_dict(p1, orient='index')\n",
    "        keys = list(thresh_df.nlargest(1, 0).index)\n",
    "        \n",
    "    return keys"
   ]
  },
  {
   "cell_type": "code",
   "execution_count": 172,
   "metadata": {},
   "outputs": [],
   "source": [
    "# Add CNN keys to dataframe\n",
    "cnn_keys = [top_keys(i) for i in df_questions['text']]\n",
    "df_questions[\"cnn_keys\"] = cnn_keys"
   ]
  },
  {
   "cell_type": "code",
   "execution_count": 180,
   "metadata": {},
   "outputs": [
    {
     "data": {
      "text/html": [
       "<div>\n",
       "<style scoped>\n",
       "    .dataframe tbody tr th:only-of-type {\n",
       "        vertical-align: middle;\n",
       "    }\n",
       "\n",
       "    .dataframe tbody tr th {\n",
       "        vertical-align: top;\n",
       "    }\n",
       "\n",
       "    .dataframe thead th {\n",
       "        text-align: right;\n",
       "    }\n",
       "</style>\n",
       "<table border=\"1\" class=\"dataframe\">\n",
       "  <thead>\n",
       "    <tr style=\"text-align: right;\">\n",
       "      <th></th>\n",
       "      <th>text</th>\n",
       "      <th>tags</th>\n",
       "      <th>cnn_keys</th>\n",
       "    </tr>\n",
       "  </thead>\n",
       "  <tbody>\n",
       "    <tr>\n",
       "      <th>0</th>\n",
       "      <td>right approach write spin controller soccer ro...</td>\n",
       "      <td>[control]</td>\n",
       "      <td>[quadcopter, pid, motor, control]</td>\n",
       "    </tr>\n",
       "    <tr>\n",
       "      <th>1</th>\n",
       "      <td>modify low cost hobby servo run get hobby serv...</td>\n",
       "      <td>[control, rcservo]</td>\n",
       "      <td>[mobile-robot, robotic-arm, sensors, control, ...</td>\n",
       "    </tr>\n",
       "    <tr>\n",
       "      <th>2</th>\n",
       "      <td>good robotics project look starting point proj...</td>\n",
       "      <td>[microcontroller, arduino, raspberry-pi]</td>\n",
       "      <td>[mobile-robot, robotic-arm, sensors, ros, cont...</td>\n",
       "    </tr>\n",
       "    <tr>\n",
       "      <th>3</th>\n",
       "      <td>good method tune process noise kalman filter o...</td>\n",
       "      <td>[odometry, localization, kalman-filter]</td>\n",
       "      <td>[mobile-robot, robotic-arm, sensors, ros, cont...</td>\n",
       "    </tr>\n",
       "    <tr>\n",
       "      <th>4</th>\n",
       "      <td>choose right combination quadcopter many site ...</td>\n",
       "      <td>[quadcopter]</td>\n",
       "      <td>[quadcopter, pid, control, motor]</td>\n",
       "    </tr>\n",
       "    <tr>\n",
       "      <th>5</th>\n",
       "      <td>mobile robot localization known map want local...</td>\n",
       "      <td>[localization, mobile-robot]</td>\n",
       "      <td>[mobile-robot, robotic-arm, sensors, localizat...</td>\n",
       "    </tr>\n",
       "    <tr>\n",
       "      <th>6</th>\n",
       "      <td>algorithm use balance two wheel robot use gyro...</td>\n",
       "      <td>[control, gyroscope, balance, two-wheeled]</td>\n",
       "      <td>[mobile-robot, robotic-arm, sensors, control, ...</td>\n",
       "    </tr>\n",
       "    <tr>\n",
       "      <th>7</th>\n",
       "      <td>accurate way obtain locational fix use gps obv...</td>\n",
       "      <td>[localization, gps]</td>\n",
       "      <td>[mobile-robot, robotic-arm, sensors, ros, cont...</td>\n",
       "    </tr>\n",
       "    <tr>\n",
       "      <th>8</th>\n",
       "      <td>algorithm use construct map explored area use ...</td>\n",
       "      <td>[slam, localization, gps, mapping]</td>\n",
       "      <td>[sensors, mobile-robot, robotic-arm, localizat...</td>\n",
       "    </tr>\n",
       "    <tr>\n",
       "      <th>9</th>\n",
       "      <td>detect dc motor robot start fail characteristi...</td>\n",
       "      <td>[sensors, motor]</td>\n",
       "      <td>[motor, robotic-arm, control]</td>\n",
       "    </tr>\n",
       "    <tr>\n",
       "      <th>10</th>\n",
       "      <td>calculate efficiency mecanum wheel part http f...</td>\n",
       "      <td>[mobile-robot, design, movement, first-robotics]</td>\n",
       "      <td>[mobile-robot, robotic-arm, sensors, ros, loca...</td>\n",
       "    </tr>\n",
       "    <tr>\n",
       "      <th>11</th>\n",
       "      <td>use arduino control connection two pin get dri...</td>\n",
       "      <td>[arduino, stepper-motor]</td>\n",
       "      <td>[motor, robotic-arm, quadcopter, control, pid]</td>\n",
       "    </tr>\n",
       "    <tr>\n",
       "      <th>12</th>\n",
       "      <td>shape memory alloy wire robot gripper arm actu...</td>\n",
       "      <td>[mobile-robot]</td>\n",
       "      <td>[sensors, robotic-arm, mobile-robot]</td>\n",
       "    </tr>\n",
       "    <tr>\n",
       "      <th>13</th>\n",
       "      <td>mechanical design motorized spherical caster w...</td>\n",
       "      <td>[servos, mobile-robot, stepper-motor]</td>\n",
       "      <td>[mobile-robot, robotic-arm, sensors, ros]</td>\n",
       "    </tr>\n",
       "    <tr>\n",
       "      <th>14</th>\n",
       "      <td>determine amount noise actuator produce http m...</td>\n",
       "      <td>[motor, actuator, noise]</td>\n",
       "      <td>[mobile-robot, robotic-arm, motor, sensors, co...</td>\n",
       "    </tr>\n",
       "  </tbody>\n",
       "</table>\n",
       "</div>"
      ],
      "text/plain": [
       "                                                 text  \\\n",
       "0   right approach write spin controller soccer ro...   \n",
       "1   modify low cost hobby servo run get hobby serv...   \n",
       "2   good robotics project look starting point proj...   \n",
       "3   good method tune process noise kalman filter o...   \n",
       "4   choose right combination quadcopter many site ...   \n",
       "5   mobile robot localization known map want local...   \n",
       "6   algorithm use balance two wheel robot use gyro...   \n",
       "7   accurate way obtain locational fix use gps obv...   \n",
       "8   algorithm use construct map explored area use ...   \n",
       "9   detect dc motor robot start fail characteristi...   \n",
       "10  calculate efficiency mecanum wheel part http f...   \n",
       "11  use arduino control connection two pin get dri...   \n",
       "12  shape memory alloy wire robot gripper arm actu...   \n",
       "13  mechanical design motorized spherical caster w...   \n",
       "14  determine amount noise actuator produce http m...   \n",
       "\n",
       "                                                tags  \\\n",
       "0                                          [control]   \n",
       "1                                 [control, rcservo]   \n",
       "2           [microcontroller, arduino, raspberry-pi]   \n",
       "3            [odometry, localization, kalman-filter]   \n",
       "4                                       [quadcopter]   \n",
       "5                       [localization, mobile-robot]   \n",
       "6         [control, gyroscope, balance, two-wheeled]   \n",
       "7                                [localization, gps]   \n",
       "8                 [slam, localization, gps, mapping]   \n",
       "9                                   [sensors, motor]   \n",
       "10  [mobile-robot, design, movement, first-robotics]   \n",
       "11                          [arduino, stepper-motor]   \n",
       "12                                    [mobile-robot]   \n",
       "13             [servos, mobile-robot, stepper-motor]   \n",
       "14                          [motor, actuator, noise]   \n",
       "\n",
       "                                             cnn_keys  \n",
       "0                   [quadcopter, pid, motor, control]  \n",
       "1   [mobile-robot, robotic-arm, sensors, control, ...  \n",
       "2   [mobile-robot, robotic-arm, sensors, ros, cont...  \n",
       "3   [mobile-robot, robotic-arm, sensors, ros, cont...  \n",
       "4                   [quadcopter, pid, control, motor]  \n",
       "5   [mobile-robot, robotic-arm, sensors, localizat...  \n",
       "6   [mobile-robot, robotic-arm, sensors, control, ...  \n",
       "7   [mobile-robot, robotic-arm, sensors, ros, cont...  \n",
       "8   [sensors, mobile-robot, robotic-arm, localizat...  \n",
       "9                       [motor, robotic-arm, control]  \n",
       "10  [mobile-robot, robotic-arm, sensors, ros, loca...  \n",
       "11     [motor, robotic-arm, quadcopter, control, pid]  \n",
       "12               [sensors, robotic-arm, mobile-robot]  \n",
       "13          [mobile-robot, robotic-arm, sensors, ros]  \n",
       "14  [mobile-robot, robotic-arm, motor, sensors, co...  "
      ]
     },
     "execution_count": 180,
     "metadata": {},
     "output_type": "execute_result"
    }
   ],
   "source": [
    "df_questions.head(15)"
   ]
  },
  {
   "cell_type": "code",
   "execution_count": 175,
   "metadata": {
    "scrolled": true
   },
   "outputs": [],
   "source": [
    "# Get unique tags\n",
    "full_tags = list(df_questions['tags']) \n",
    "\n",
    "split = [item for sublist in full_tags for item in sublist]\n",
    "unique = list(set(split))"
   ]
  },
  {
   "cell_type": "code",
   "execution_count": 176,
   "metadata": {},
   "outputs": [],
   "source": [
    "def dfs(data, unique, col): \n",
    "    #split_list = [tags.split(\" \") for tags in list(data['tags'])]\n",
    "    #split = [item for sublist in split_list for item in sublist]\n",
    "    #unique = list(set(split))\n",
    "    tags_df = pd.DataFrame(columns = unique)\n",
    "    data = pd.DataFrame(data)\n",
    "    joined = data.join(tags_df).fillna(0)\n",
    "    tags_only = joined.iloc[:, 1:np.shape(joined)[1]]\n",
    "    split_list = joined[col]\n",
    "    for i in range(np.shape(tags_only)[0]):\n",
    "        tags_only.iloc[i].loc[split_list[i]] = 1\n",
    "    #tags_only.iloc[0].loc[split_list[0]]\n",
    "    #data.iloc[:, 2:np.shape(joined)[1]] = tags_only\n",
    "    #final = data.join(tags_only)\n",
    "    return tags_only"
   ]
  },
  {
   "cell_type": "code",
   "execution_count": 177,
   "metadata": {},
   "outputs": [],
   "source": [
    "ohe_original = dfs(df_questions['tags'], unique, col = 'tags')"
   ]
  },
  {
   "cell_type": "code",
   "execution_count": 178,
   "metadata": {},
   "outputs": [],
   "source": [
    "ohe_cnn = dfs(df_questions['cnn_keys'], unique, col = 'cnn_keys')"
   ]
  },
  {
   "cell_type": "code",
   "execution_count": 179,
   "metadata": {},
   "outputs": [
    {
     "name": "stderr",
     "output_type": "stream",
     "text": [
      "/Users/christinachang/anaconda3/lib/python3.7/site-packages/sklearn/metrics/classification.py:1143: UndefinedMetricWarning: F-score is ill-defined and being set to 0.0 in labels with no predicted samples.\n",
      "  'precision', 'predicted', average, warn_for)\n"
     ]
    },
    {
     "data": {
      "text/plain": [
       "0.19822162500004403"
      ]
     },
     "execution_count": 179,
     "metadata": {},
     "output_type": "execute_result"
    }
   ],
   "source": [
    "from sklearn.metrics import f1_score\n",
    "\n",
    "f1_score(ohe_original, ohe_cnn, average = 'weighted')"
   ]
  },
  {
   "cell_type": "code",
   "execution_count": null,
   "metadata": {},
   "outputs": [],
   "source": []
  },
  {
   "cell_type": "code",
   "execution_count": null,
   "metadata": {},
   "outputs": [],
   "source": []
  },
  {
   "cell_type": "code",
   "execution_count": 210,
   "metadata": {},
   "outputs": [
    {
     "name": "stderr",
     "output_type": "stream",
     "text": [
      "/Users/christinachang/anaconda3/lib/python3.7/site-packages/sklearn/metrics/classification.py:1143: UndefinedMetricWarning: F-score is ill-defined and being set to 0.0 in labels with no predicted samples.\n",
      "  'precision', 'predicted', average, warn_for)\n",
      "/Users/christinachang/anaconda3/lib/python3.7/site-packages/sklearn/metrics/classification.py:1145: UndefinedMetricWarning: F-score is ill-defined and being set to 0.0 in labels with no true samples.\n",
      "  'recall', 'true', average, warn_for)\n"
     ]
    },
    {
     "data": {
      "text/plain": [
       "0.18144504922896626"
      ]
     },
     "execution_count": 210,
     "metadata": {},
     "output_type": "execute_result"
    }
   ],
   "source": [
    "tmp1 = ohe_original.iloc[indices_test, :]\n",
    "tmp2 = ohe_cnn.iloc[indices_test, :]\n",
    "f1_score(tmp1, tmp2, average = 'weighted')"
   ]
  },
  {
   "cell_type": "code",
   "execution_count": null,
   "metadata": {},
   "outputs": [],
   "source": []
  }
 ],
 "metadata": {
  "kernelspec": {
   "display_name": "Python 3",
   "language": "python",
   "name": "python3"
  },
  "language_info": {
   "codemirror_mode": {
    "name": "ipython",
    "version": 3
   },
   "file_extension": ".py",
   "mimetype": "text/x-python",
   "name": "python",
   "nbconvert_exporter": "python",
   "pygments_lexer": "ipython3",
   "version": "3.7.3"
  }
 },
 "nbformat": 4,
 "nbformat_minor": 2
}
