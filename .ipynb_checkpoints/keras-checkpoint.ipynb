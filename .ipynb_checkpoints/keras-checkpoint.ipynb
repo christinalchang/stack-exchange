{
 "cells": [
  {
   "cell_type": "code",
   "execution_count": 2,
   "metadata": {},
   "outputs": [],
   "source": [
    "import numpy as np\n",
    "import pandas as pd\n",
    "import pickle\n",
    "import numpy as np"
   ]
  },
  {
   "cell_type": "code",
   "execution_count": 3,
   "metadata": {},
   "outputs": [],
   "source": [
    "# INPUT CLEANED DATAFRAME \n",
    "df_questions = pd.read_pickle(\"./cleaned_trim/biology_trim_clean.dat\")"
   ]
  },
  {
   "cell_type": "code",
   "execution_count": 4,
   "metadata": {},
   "outputs": [
    {
     "data": {
      "text/html": [
       "<div>\n",
       "<style scoped>\n",
       "    .dataframe tbody tr th:only-of-type {\n",
       "        vertical-align: middle;\n",
       "    }\n",
       "\n",
       "    .dataframe tbody tr th {\n",
       "        vertical-align: top;\n",
       "    }\n",
       "\n",
       "    .dataframe thead th {\n",
       "        text-align: right;\n",
       "    }\n",
       "</style>\n",
       "<table border=\"1\" class=\"dataframe\">\n",
       "  <thead>\n",
       "    <tr style=\"text-align: right;\">\n",
       "      <th></th>\n",
       "      <th>text</th>\n",
       "      <th>tags</th>\n",
       "    </tr>\n",
       "  </thead>\n",
       "  <tbody>\n",
       "    <tr>\n",
       "      <th>0</th>\n",
       "      <td>rnase contamination rna base experiment preven...</td>\n",
       "      <td>[rna, biochemistry]</td>\n",
       "    </tr>\n",
       "    <tr>\n",
       "      <th>1</th>\n",
       "      <td>lymphocyte size cluster two group tortora writ...</td>\n",
       "      <td>[immunology, cell-biology, hematology]</td>\n",
       "    </tr>\n",
       "  </tbody>\n",
       "</table>\n",
       "</div>"
      ],
      "text/plain": [
       "                                                text  \\\n",
       "0  rnase contamination rna base experiment preven...   \n",
       "1  lymphocyte size cluster two group tortora writ...   \n",
       "\n",
       "                                     tags  \n",
       "0                     [rna, biochemistry]  \n",
       "1  [immunology, cell-biology, hematology]  "
      ]
     },
     "execution_count": 4,
     "metadata": {},
     "output_type": "execute_result"
    }
   ],
   "source": [
    "# make tags column into list of tags\n",
    "split_list = [tags.split(\" \") for tags in list(df_questions['tags'])]\n",
    "df_questions['tags'] = split_list"
   ]
  },
  {
   "cell_type": "markdown",
   "metadata": {},
   "source": [
    "### reduce tags"
   ]
  },
  {
   "cell_type": "code",
   "execution_count": 5,
   "metadata": {},
   "outputs": [],
   "source": [
    "split = [item for sublist in split_list for item in sublist]\n",
    "df_tags = pd.DataFrame(split)\n",
    "df_tags.columns = ['Tag']"
   ]
  },
  {
   "cell_type": "code",
   "execution_count": 6,
   "metadata": {},
   "outputs": [
    {
     "data": {
      "text/plain": [
       "count         655\n",
       "unique        655\n",
       "top       species\n",
       "freq            1\n",
       "Name: Tag, dtype: object"
      ]
     },
     "execution_count": 6,
     "metadata": {},
     "output_type": "execute_result"
    }
   ],
   "source": [
    "grouped_tags = df_tags.groupby(\"Tag\", sort='count').size().reset_index(name='count')\n",
    "grouped_tags.Tag.describe()"
   ]
  },
  {
   "cell_type": "code",
   "execution_count": 7,
   "metadata": {},
   "outputs": [],
   "source": [
    "num_classes = 100\n",
    "grouped_tags = df_tags.groupby(\"Tag\").size().reset_index(name='count')\n",
    "most_common_tags = grouped_tags.nlargest(num_classes, columns=\"count\")\n",
    "df_tags.Tag = df_tags.Tag.apply(lambda tag : tag if tag in most_common_tags.Tag.values else None)\n",
    "df_tags = df_tags.dropna()"
   ]
  },
  {
   "cell_type": "code",
   "execution_count": 8,
   "metadata": {},
   "outputs": [
    {
     "name": "stdout",
     "output_type": "stream",
     "text": [
      "['evolution', 'mitochondria', 'chloroplasts']\n"
     ]
    }
   ],
   "source": [
    "# only keep the tags in the top 100\n",
    "\n",
    "# list of unique tags\n",
    "unique = list(set(df_tags.Tag))\n",
    "tmp = df_questions.tags[5]\n",
    "print(tmp)\n",
    "\n",
    "def tags_in_100(i, unique):\n",
    "    \"Input list of tags and top 100 tags. Return words in the original list that are also in top 100.\"\n",
    "    values = [x for x in i if x in unique]\n",
    "    return values"
   ]
  },
  {
   "cell_type": "code",
   "execution_count": 9,
   "metadata": {},
   "outputs": [
    {
     "data": {
      "text/html": [
       "<div>\n",
       "<style scoped>\n",
       "    .dataframe tbody tr th:only-of-type {\n",
       "        vertical-align: middle;\n",
       "    }\n",
       "\n",
       "    .dataframe tbody tr th {\n",
       "        vertical-align: top;\n",
       "    }\n",
       "\n",
       "    .dataframe thead th {\n",
       "        text-align: right;\n",
       "    }\n",
       "</style>\n",
       "<table border=\"1\" class=\"dataframe\">\n",
       "  <thead>\n",
       "    <tr style=\"text-align: right;\">\n",
       "      <th></th>\n",
       "      <th>original</th>\n",
       "      <th>top100</th>\n",
       "    </tr>\n",
       "  </thead>\n",
       "  <tbody>\n",
       "    <tr>\n",
       "      <th>0</th>\n",
       "      <td>[rna, biochemistry]</td>\n",
       "      <td>[rna, biochemistry]</td>\n",
       "    </tr>\n",
       "    <tr>\n",
       "      <th>1</th>\n",
       "      <td>[immunology, cell-biology, hematology]</td>\n",
       "      <td>[immunology, cell-biology, hematology]</td>\n",
       "    </tr>\n",
       "    <tr>\n",
       "      <th>2</th>\n",
       "      <td>[dna, biochemistry, molecular-biology]</td>\n",
       "      <td>[dna, biochemistry, molecular-biology]</td>\n",
       "    </tr>\n",
       "    <tr>\n",
       "      <th>3</th>\n",
       "      <td>[neuroscience, synapses]</td>\n",
       "      <td>[neuroscience]</td>\n",
       "    </tr>\n",
       "    <tr>\n",
       "      <th>4</th>\n",
       "      <td>[molecular-genetics, gene-expression, experime...</td>\n",
       "      <td>[molecular-genetics, gene-expression, experime...</td>\n",
       "    </tr>\n",
       "    <tr>\n",
       "      <th>5</th>\n",
       "      <td>[evolution, mitochondria, chloroplasts]</td>\n",
       "      <td>[evolution]</td>\n",
       "    </tr>\n",
       "    <tr>\n",
       "      <th>6</th>\n",
       "      <td>[molecular-biology, synthetic-biology]</td>\n",
       "      <td>[molecular-biology, synthetic-biology]</td>\n",
       "    </tr>\n",
       "    <tr>\n",
       "      <th>7</th>\n",
       "      <td>[bioinformatics, homework]</td>\n",
       "      <td>[bioinformatics, homework]</td>\n",
       "    </tr>\n",
       "    <tr>\n",
       "      <th>8</th>\n",
       "      <td>[neuroscience, immunology]</td>\n",
       "      <td>[neuroscience, immunology]</td>\n",
       "    </tr>\n",
       "    <tr>\n",
       "      <th>9</th>\n",
       "      <td>[microbiology, virology, influenza]</td>\n",
       "      <td>[microbiology, virology]</td>\n",
       "    </tr>\n",
       "  </tbody>\n",
       "</table>\n",
       "</div>"
      ],
      "text/plain": [
       "                                            original  \\\n",
       "0                                [rna, biochemistry]   \n",
       "1             [immunology, cell-biology, hematology]   \n",
       "2             [dna, biochemistry, molecular-biology]   \n",
       "3                           [neuroscience, synapses]   \n",
       "4  [molecular-genetics, gene-expression, experime...   \n",
       "5            [evolution, mitochondria, chloroplasts]   \n",
       "6             [molecular-biology, synthetic-biology]   \n",
       "7                         [bioinformatics, homework]   \n",
       "8                         [neuroscience, immunology]   \n",
       "9                [microbiology, virology, influenza]   \n",
       "\n",
       "                                              top100  \n",
       "0                                [rna, biochemistry]  \n",
       "1             [immunology, cell-biology, hematology]  \n",
       "2             [dna, biochemistry, molecular-biology]  \n",
       "3                                     [neuroscience]  \n",
       "4  [molecular-genetics, gene-expression, experime...  \n",
       "5                                        [evolution]  \n",
       "6             [molecular-biology, synthetic-biology]  \n",
       "7                         [bioinformatics, homework]  \n",
       "8                         [neuroscience, immunology]  \n",
       "9                           [microbiology, virology]  "
      ]
     },
     "execution_count": 9,
     "metadata": {},
     "output_type": "execute_result"
    }
   ],
   "source": [
    "only_top_100 = [tags_in_100(i, unique) for i in df_questions.tags]\n",
    "pd.DataFrame({\"original\" :np.array(df_questions.tags), \"top100\":np.array(only_top_100)}).head(10)"
   ]
  },
  {
   "cell_type": "code",
   "execution_count": 10,
   "metadata": {},
   "outputs": [
    {
     "data": {
      "text/html": [
       "<div>\n",
       "<style scoped>\n",
       "    .dataframe tbody tr th:only-of-type {\n",
       "        vertical-align: middle;\n",
       "    }\n",
       "\n",
       "    .dataframe tbody tr th {\n",
       "        vertical-align: top;\n",
       "    }\n",
       "\n",
       "    .dataframe thead th {\n",
       "        text-align: right;\n",
       "    }\n",
       "</style>\n",
       "<table border=\"1\" class=\"dataframe\">\n",
       "  <thead>\n",
       "    <tr style=\"text-align: right;\">\n",
       "      <th></th>\n",
       "      <th>text</th>\n",
       "      <th>tags</th>\n",
       "    </tr>\n",
       "  </thead>\n",
       "  <tbody>\n",
       "    <tr>\n",
       "      <th>0</th>\n",
       "      <td>rnase contamination rna base experiment preven...</td>\n",
       "      <td>[rna, biochemistry]</td>\n",
       "    </tr>\n",
       "    <tr>\n",
       "      <th>1</th>\n",
       "      <td>lymphocyte size cluster two group tortora writ...</td>\n",
       "      <td>[immunology, cell-biology, hematology]</td>\n",
       "    </tr>\n",
       "    <tr>\n",
       "      <th>2</th>\n",
       "      <td>avoid digest dna interested sequence analyze b...</td>\n",
       "      <td>[dna, biochemistry, molecular-biology]</td>\n",
       "    </tr>\n",
       "    <tr>\n",
       "      <th>3</th>\n",
       "      <td>condition dendritic spine form look resource i...</td>\n",
       "      <td>[neuroscience]</td>\n",
       "    </tr>\n",
       "    <tr>\n",
       "      <th>4</th>\n",
       "      <td>reason behind choose reporter gene experiment ...</td>\n",
       "      <td>[molecular-genetics, gene-expression, experime...</td>\n",
       "    </tr>\n",
       "  </tbody>\n",
       "</table>\n",
       "</div>"
      ],
      "text/plain": [
       "                                                text  \\\n",
       "0  rnase contamination rna base experiment preven...   \n",
       "1  lymphocyte size cluster two group tortora writ...   \n",
       "2  avoid digest dna interested sequence analyze b...   \n",
       "3  condition dendritic spine form look resource i...   \n",
       "4  reason behind choose reporter gene experiment ...   \n",
       "\n",
       "                                                tags  \n",
       "0                                [rna, biochemistry]  \n",
       "1             [immunology, cell-biology, hematology]  \n",
       "2             [dna, biochemistry, molecular-biology]  \n",
       "3                                     [neuroscience]  \n",
       "4  [molecular-genetics, gene-expression, experime...  "
      ]
     },
     "execution_count": 10,
     "metadata": {},
     "output_type": "execute_result"
    }
   ],
   "source": [
    "# Change question df to only include top 100\n",
    "df_questions['tags'] = only_top_100\n",
    "df_questions.head()"
   ]
  },
  {
   "cell_type": "markdown",
   "metadata": {},
   "source": [
    "### tokenize text & split/train"
   ]
  },
  {
   "cell_type": "code",
   "execution_count": 11,
   "metadata": {},
   "outputs": [
    {
     "name": "stderr",
     "output_type": "stream",
     "text": [
      "Using TensorFlow backend.\n"
     ]
    }
   ],
   "source": [
    "from keras.preprocessing.text import Tokenizer\n",
    "from keras.preprocessing.sequence import pad_sequences\n",
    "from sklearn.preprocessing import MultiLabelBinarizer\n",
    "\n",
    "multilabel_binarizer = MultiLabelBinarizer()\n",
    "multilabel_binarizer.fit(df_questions.tags)\n",
    "labels = multilabel_binarizer.classes_\n",
    "\n",
    "maxlen = 180\n",
    "max_words = 5000\n",
    "tokenizer = Tokenizer(num_words=max_words, lower=True)\n",
    "tokenizer.fit_on_texts(df_questions.text)\n",
    "\n",
    "def get_features(text_series):\n",
    "    \"\"\"\n",
    "    transforms text data to feature_vectors that can be used in the ml model.\n",
    "    tokenizer must be available.\n",
    "    \"\"\"\n",
    "    sequences = tokenizer.texts_to_sequences(text_series)\n",
    "    return pad_sequences(sequences, maxlen=maxlen)\n",
    "\n",
    "\n",
    "def prediction_to_label(prediction):\n",
    "    tag_prob = [(labels[i], prob) for i, prob in enumerate(prediction.tolist())]\n",
    "    return dict(sorted(tag_prob, key=lambda kv: kv[1], reverse=True))"
   ]
  },
  {
   "cell_type": "code",
   "execution_count": 12,
   "metadata": {},
   "outputs": [
    {
     "name": "stdout",
     "output_type": "stream",
     "text": [
      "(10408, 180)\n"
     ]
    }
   ],
   "source": [
    "from sklearn.model_selection import train_test_split\n",
    "\n",
    "x = get_features(df_questions.text)\n",
    "y = multilabel_binarizer.transform(df_questions.tags)\n",
    "print(x.shape)\n",
    "\n",
    "x_train, x_test, y_train, y_test = train_test_split(x, y, test_size=0.3, random_state=9000)"
   ]
  },
  {
   "cell_type": "markdown",
   "metadata": {},
   "source": [
    "### imbalanced classes"
   ]
  },
  {
   "cell_type": "code",
   "execution_count": 13,
   "metadata": {
    "scrolled": true
   },
   "outputs": [
    {
     "data": {
      "text/html": [
       "<div>\n",
       "<style scoped>\n",
       "    .dataframe tbody tr th:only-of-type {\n",
       "        vertical-align: middle;\n",
       "    }\n",
       "\n",
       "    .dataframe tbody tr th {\n",
       "        vertical-align: top;\n",
       "    }\n",
       "\n",
       "    .dataframe thead th {\n",
       "        text-align: right;\n",
       "    }\n",
       "</style>\n",
       "<table border=\"1\" class=\"dataframe\">\n",
       "  <thead>\n",
       "    <tr style=\"text-align: right;\">\n",
       "      <th></th>\n",
       "      <th>Tag</th>\n",
       "      <th>count</th>\n",
       "      <th>class_weight</th>\n",
       "    </tr>\n",
       "  </thead>\n",
       "  <tbody>\n",
       "    <tr>\n",
       "      <th>298</th>\n",
       "      <td>human-biology</td>\n",
       "      <td>1448</td>\n",
       "      <td>14.783149</td>\n",
       "    </tr>\n",
       "    <tr>\n",
       "      <th>253</th>\n",
       "      <td>genetics</td>\n",
       "      <td>1229</td>\n",
       "      <td>17.417413</td>\n",
       "    </tr>\n",
       "    <tr>\n",
       "      <th>209</th>\n",
       "      <td>evolution</td>\n",
       "      <td>1159</td>\n",
       "      <td>18.469370</td>\n",
       "    </tr>\n",
       "    <tr>\n",
       "      <th>51</th>\n",
       "      <td>biochemistry</td>\n",
       "      <td>984</td>\n",
       "      <td>21.754065</td>\n",
       "    </tr>\n",
       "    <tr>\n",
       "      <th>398</th>\n",
       "      <td>molecular-biology</td>\n",
       "      <td>863</td>\n",
       "      <td>24.804171</td>\n",
       "    </tr>\n",
       "  </tbody>\n",
       "</table>\n",
       "</div>"
      ],
      "text/plain": [
       "                   Tag  count  class_weight\n",
       "298      human-biology   1448     14.783149\n",
       "253           genetics   1229     17.417413\n",
       "209          evolution   1159     18.469370\n",
       "51        biochemistry    984     21.754065\n",
       "398  molecular-biology    863     24.804171"
      ]
     },
     "execution_count": 13,
     "metadata": {},
     "output_type": "execute_result"
    }
   ],
   "source": [
    "most_common_tags['class_weight'] = len(df_tags) / most_common_tags['count']\n",
    "class_weight = {}\n",
    "for index, label in enumerate(labels): \n",
    "    class_weight[index] = most_common_tags[most_common_tags['Tag'] == label]['class_weight'].values[0]\n",
    "    \n",
    "most_common_tags.head()"
   ]
  },
  {
   "cell_type": "markdown",
   "metadata": {},
   "source": [
    "### build 1-d convolutional neural network"
   ]
  },
  {
   "cell_type": "code",
   "execution_count": 14,
   "metadata": {
    "scrolled": true
   },
   "outputs": [
    {
     "name": "stderr",
     "output_type": "stream",
     "text": [
      "WARNING: Logging before flag parsing goes to stderr.\n",
      "W0609 13:32:13.273573 4606662080 deprecation_wrapper.py:118] From /Users/christinachang/anaconda3/lib/python3.7/site-packages/keras/backend/tensorflow_backend.py:74: The name tf.get_default_graph is deprecated. Please use tf.compat.v1.get_default_graph instead.\n",
      "\n",
      "W0609 13:32:13.291162 4606662080 deprecation_wrapper.py:118] From /Users/christinachang/anaconda3/lib/python3.7/site-packages/keras/backend/tensorflow_backend.py:517: The name tf.placeholder is deprecated. Please use tf.compat.v1.placeholder instead.\n",
      "\n",
      "W0609 13:32:13.294455 4606662080 deprecation_wrapper.py:118] From /Users/christinachang/anaconda3/lib/python3.7/site-packages/keras/backend/tensorflow_backend.py:4138: The name tf.random_uniform is deprecated. Please use tf.random.uniform instead.\n",
      "\n",
      "W0609 13:32:13.308912 4606662080 deprecation_wrapper.py:118] From /Users/christinachang/anaconda3/lib/python3.7/site-packages/keras/backend/tensorflow_backend.py:133: The name tf.placeholder_with_default is deprecated. Please use tf.compat.v1.placeholder_with_default instead.\n",
      "\n",
      "W0609 13:32:13.317939 4606662080 deprecation.py:506] From /Users/christinachang/anaconda3/lib/python3.7/site-packages/keras/backend/tensorflow_backend.py:3445: calling dropout (from tensorflow.python.ops.nn_ops) with keep_prob is deprecated and will be removed in a future version.\n",
      "Instructions for updating:\n",
      "Please use `rate` instead of `keep_prob`. Rate should be set to `rate = 1 - keep_prob`.\n",
      "W0609 13:32:13.415238 4606662080 deprecation_wrapper.py:118] From /Users/christinachang/anaconda3/lib/python3.7/site-packages/keras/optimizers.py:790: The name tf.train.Optimizer is deprecated. Please use tf.compat.v1.train.Optimizer instead.\n",
      "\n",
      "W0609 13:32:13.450241 4606662080 deprecation_wrapper.py:118] From /Users/christinachang/anaconda3/lib/python3.7/site-packages/keras/backend/tensorflow_backend.py:3376: The name tf.log is deprecated. Please use tf.math.log instead.\n",
      "\n",
      "W0609 13:32:13.459574 4606662080 deprecation.py:323] From /Users/christinachang/anaconda3/lib/python3.7/site-packages/tensorflow/python/ops/nn_impl.py:182: add_dispatch_support.<locals>.wrapper (from tensorflow.python.ops.array_ops) is deprecated and will be removed in a future version.\n",
      "Instructions for updating:\n",
      "Use tf.where in 2.0, which has the same broadcast rule as np.where\n"
     ]
    },
    {
     "name": "stdout",
     "output_type": "stream",
     "text": [
      "_________________________________________________________________\n",
      "Layer (type)                 Output Shape              Param #   \n",
      "=================================================================\n",
      "embedding_1 (Embedding)      (None, 180, 20)           100000    \n",
      "_________________________________________________________________\n",
      "dropout_1 (Dropout)          (None, 180, 20)           0         \n",
      "_________________________________________________________________\n",
      "conv1d_1 (Conv1D)            (None, 178, 300)          18300     \n",
      "_________________________________________________________________\n",
      "global_max_pooling1d_1 (Glob (None, 300)               0         \n",
      "_________________________________________________________________\n",
      "dense_1 (Dense)              (None, 100)               30100     \n",
      "_________________________________________________________________\n",
      "activation_1 (Activation)    (None, 100)               0         \n",
      "=================================================================\n",
      "Total params: 148,400\n",
      "Trainable params: 148,400\n",
      "Non-trainable params: 0\n",
      "_________________________________________________________________\n",
      "Train on 6556 samples, validate on 729 samples\n",
      "Epoch 1/20\n",
      "6556/6556 [==============================] - 5s 831us/step - loss: 14.7374 - categorical_accuracy: 0.0479 - val_loss: 7.3169 - val_categorical_accuracy: 0.0521\n",
      "Epoch 2/20\n",
      "6556/6556 [==============================] - 5s 706us/step - loss: 7.9505 - categorical_accuracy: 0.0700 - val_loss: 7.2590 - val_categorical_accuracy: 0.0521\n",
      "Epoch 3/20\n",
      "6556/6556 [==============================] - 5s 722us/step - loss: 7.9184 - categorical_accuracy: 0.0662 - val_loss: 7.2224 - val_categorical_accuracy: 0.0535\n",
      "Epoch 4/20\n",
      "6556/6556 [==============================] - 4s 672us/step - loss: 7.8342 - categorical_accuracy: 0.0714 - val_loss: 7.1400 - val_categorical_accuracy: 0.0590\n",
      "Epoch 5/20\n",
      "6556/6556 [==============================] - 5s 694us/step - loss: 7.5821 - categorical_accuracy: 0.1016 - val_loss: 6.7627 - val_categorical_accuracy: 0.1248\n",
      "Epoch 6/20\n",
      "6556/6556 [==============================] - 4s 649us/step - loss: 6.9504 - categorical_accuracy: 0.1545 - val_loss: 6.1710 - val_categorical_accuracy: 0.1001\n",
      "Epoch 7/20\n",
      "6556/6556 [==============================] - 4s 680us/step - loss: 6.3527 - categorical_accuracy: 0.1901 - val_loss: 5.8638 - val_categorical_accuracy: 0.1674\n",
      "Epoch 8/20\n",
      "6556/6556 [==============================] - 5s 744us/step - loss: 5.8801 - categorical_accuracy: 0.2236 - val_loss: 5.6687 - val_categorical_accuracy: 0.2112\n",
      "Epoch 9/20\n",
      "6556/6556 [==============================] - 4s 608us/step - loss: 5.5318 - categorical_accuracy: 0.2627 - val_loss: 5.5114 - val_categorical_accuracy: 0.2743\n",
      "Epoch 10/20\n",
      "6556/6556 [==============================] - 4s 603us/step - loss: 5.2264 - categorical_accuracy: 0.2923 - val_loss: 5.4806 - val_categorical_accuracy: 0.2771\n",
      "Epoch 11/20\n",
      "6556/6556 [==============================] - 4s 602us/step - loss: 4.9435 - categorical_accuracy: 0.3206 - val_loss: 5.4482 - val_categorical_accuracy: 0.3169\n",
      "Epoch 12/20\n",
      "6556/6556 [==============================] - 4s 597us/step - loss: 4.6901 - categorical_accuracy: 0.3482 - val_loss: 5.4683 - val_categorical_accuracy: 0.3018\n",
      "Epoch 13/20\n",
      "6556/6556 [==============================] - 4s 626us/step - loss: 4.4369 - categorical_accuracy: 0.3530 - val_loss: 5.4959 - val_categorical_accuracy: 0.3196\n",
      "Epoch 14/20\n",
      "6556/6556 [==============================] - ETA: 0s - loss: 4.2283 - categorical_accuracy: 0.37 - 4s 607us/step - loss: 4.2238 - categorical_accuracy: 0.3720 - val_loss: 5.5199 - val_categorical_accuracy: 0.3182\n",
      "Epoch 15/20\n",
      "6556/6556 [==============================] - 4s 607us/step - loss: 4.0166 - categorical_accuracy: 0.3986 - val_loss: 5.5381 - val_categorical_accuracy: 0.3100\n"
     ]
    }
   ],
   "source": [
    "from keras.models import Sequential\n",
    "from keras.layers import Dense, Activation, Embedding, Flatten, GlobalMaxPool1D, Dropout, Conv1D\n",
    "from keras.callbacks import ReduceLROnPlateau, EarlyStopping, ModelCheckpoint\n",
    "from keras.losses import binary_crossentropy\n",
    "from keras.optimizers import Adam\n",
    "\n",
    "filter_length = 300\n",
    "\n",
    "model = Sequential()\n",
    "model.add(Embedding(max_words, 20, input_length=maxlen))\n",
    "model.add(Dropout(0.1))\n",
    "model.add(Conv1D(filter_length, 3, padding='valid', activation='relu', strides=1))\n",
    "model.add(GlobalMaxPool1D())\n",
    "model.add(Dense(num_classes))\n",
    "model.add(Activation('sigmoid'))\n",
    "\n",
    "model.compile(optimizer='adam', loss='binary_crossentropy', metrics=['categorical_accuracy'])\n",
    "model.summary()\n",
    "\n",
    "callbacks = [\n",
    "    ReduceLROnPlateau(), \n",
    "    EarlyStopping(patience=4), \n",
    "    ModelCheckpoint(filepath='model-conv1d.h5', save_best_only=True)\n",
    "]\n",
    "\n",
    "history = model.fit(x_train, y_train,\n",
    "                    class_weight=class_weight,\n",
    "                    epochs=20,\n",
    "                    batch_size=32,\n",
    "                    validation_split=0.1,\n",
    "                    callbacks=callbacks)"
   ]
  },
  {
   "cell_type": "code",
   "execution_count": 16,
   "metadata": {},
   "outputs": [
    {
     "name": "stdout",
     "output_type": "stream",
     "text": [
      "3123/3123 [==============================] - 1s 197us/step\n",
      "loss: 0.07445679103291802\n",
      "categorical_accuracy: 0.28081972459513066\n"
     ]
    }
   ],
   "source": [
    "import keras.models \n",
    "cnn_model = keras.models.load_model('model-conv1d.h5')\n",
    "metrics = cnn_model.evaluate(x_test, y_test)\n",
    "print(\"{}: {}\".format(model.metrics_names[0], metrics[0]))\n",
    "print(\"{}: {}\".format(model.metrics_names[1], metrics[1]))"
   ]
  },
  {
   "cell_type": "code",
   "execution_count": 18,
   "metadata": {},
   "outputs": [],
   "source": [
    "def top_keys(q): \n",
    "    \"\"\"Returns the top tags with a threshold for probability\"\"\"\n",
    "    f = get_features([q])\n",
    "    p1 = prediction_to_label(cnn_model.predict(f)[0])\n",
    "    thresh_keys = dict((k, v) for k, v in p1.items() if v >= 0.1)\n",
    "    keys = list(thresh_keys.keys())\n",
    "\n",
    "    if len(thresh_keys) > 5:\n",
    "        thresh_df = pd.DataFrame.from_dict(p1, orient='index')\n",
    "        keys = list(thresh_df.nlargest(5, 0).index)\n",
    "\n",
    "    if len(thresh_keys) == 0:\n",
    "        thresh_df = pd.DataFrame.from_dict(p1, orient='index')\n",
    "        keys = list(thresh_df.nlargest(1, 0).index)\n",
    "        \n",
    "    return keys"
   ]
  },
  {
   "cell_type": "code",
   "execution_count": 19,
   "metadata": {},
   "outputs": [],
   "source": [
    "# Add CNN keys to dataframe\n",
    "cnn_keys = [top_keys(i) for i in df_questions['text']]\n",
    "df_questions[\"cnn_keys\"] = cnn_keys"
   ]
  },
  {
   "cell_type": "code",
   "execution_count": 21,
   "metadata": {
    "scrolled": true
   },
   "outputs": [],
   "source": [
    "# Get unique tags\n",
    "full_tags = list(df_questions['tags']) \n",
    "\n",
    "split = [item for sublist in full_tags for item in sublist]\n",
    "unique = list(set(split))"
   ]
  },
  {
   "cell_type": "code",
   "execution_count": 25,
   "metadata": {},
   "outputs": [],
   "source": [
    "def dfs(data, unique, col): \n",
    "    #split_list = [tags.split(\" \") for tags in list(data['tags'])]\n",
    "    #split = [item for sublist in split_list for item in sublist]\n",
    "    #unique = list(set(split))\n",
    "    tags_df = pd.DataFrame(columns = unique)\n",
    "    data = pd.DataFrame(data)\n",
    "    joined = data.join(tags_df).fillna(0)\n",
    "    tags_only = joined.iloc[:, 1:np.shape(joined)[1]]\n",
    "    split_list = joined[col]\n",
    "    for i in range(np.shape(tags_only)[0]):\n",
    "        tags_only.iloc[i].loc[split_list[i]] = 1\n",
    "    #tags_only.iloc[0].loc[split_list[0]]\n",
    "    #data.iloc[:, 2:np.shape(joined)[1]] = tags_only\n",
    "    #final = data.join(tags_only)\n",
    "    return tags_only"
   ]
  },
  {
   "cell_type": "code",
   "execution_count": 29,
   "metadata": {},
   "outputs": [],
   "source": [
    "ohe_original = dfs(df_questions['tags'], unique, col = 'tags')"
   ]
  },
  {
   "cell_type": "code",
   "execution_count": 30,
   "metadata": {},
   "outputs": [],
   "source": [
    "ohe_cnn = dfs(df_questions['cnn_keys'], unique, col = 'cnn_keys')"
   ]
  },
  {
   "cell_type": "code",
   "execution_count": 32,
   "metadata": {},
   "outputs": [
    {
     "name": "stderr",
     "output_type": "stream",
     "text": [
      "/Users/christinachang/anaconda3/lib/python3.7/site-packages/sklearn/metrics/classification.py:1143: UndefinedMetricWarning: F-score is ill-defined and being set to 0.0 in labels with no predicted samples.\n",
      "  'precision', 'predicted', average, warn_for)\n"
     ]
    },
    {
     "data": {
      "text/plain": [
       "0.35444947830460954"
      ]
     },
     "execution_count": 32,
     "metadata": {},
     "output_type": "execute_result"
    }
   ],
   "source": [
    "from sklearn.metrics import f1_score\n",
    "\n",
    "f1_score(ohe_original, ohe_cnn, average = 'weighted')"
   ]
  },
  {
   "cell_type": "code",
   "execution_count": null,
   "metadata": {},
   "outputs": [],
   "source": []
  }
 ],
 "metadata": {
  "kernelspec": {
   "display_name": "Python 3",
   "language": "python",
   "name": "python3"
  },
  "language_info": {
   "codemirror_mode": {
    "name": "ipython",
    "version": 3
   },
   "file_extension": ".py",
   "mimetype": "text/x-python",
   "name": "python",
   "nbconvert_exporter": "python",
   "pygments_lexer": "ipython3",
   "version": "3.7.3"
  }
 },
 "nbformat": 4,
 "nbformat_minor": 2
}
