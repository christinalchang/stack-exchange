{
 "cells": [
  {
   "cell_type": "code",
   "execution_count": 13,
   "metadata": {},
   "outputs": [],
   "source": [
    "import pandas as pd \n",
    "import numpy as np"
   ]
  },
  {
   "cell_type": "code",
   "execution_count": 111,
   "metadata": {
    "scrolled": true
   },
   "outputs": [],
   "source": [
    "data = pd.read_pickle(\"/Users/Troy/Desktop/clean_df/crypto_trim_clean (1).dat\")\n",
    "#data"
   ]
  },
  {
   "cell_type": "code",
   "execution_count": 104,
   "metadata": {},
   "outputs": [],
   "source": [
    "def dfs(data): \n",
    "    split_list = [tags.split(\" \") for tags in list(data['tags'])]\n",
    "    split = [item for sublist in split_list for item in sublist]\n",
    "    unique = list(set(split))\n",
    "    tags_df = pd.DataFrame(columns = unique)\n",
    "\n",
    "    joined = data.join(tags_df).fillna(0)\n",
    "    tags_only = joined.iloc[:, 2:np.shape(joined)[1]]\n",
    "    split_list\n",
    "\n",
    "    for i in range(np.shape(tags_only)[0]):\n",
    "        tags_only.iloc[i].loc[split_list[i]] = 1\n",
    "    tags_only.iloc[0].loc[split_list[0]]\n",
    "    data.iloc[:, 2:np.shape(joined)[1]] = tags_only\n",
    "    final = data.join(tags_only)\n",
    "    return final"
   ]
  },
  {
   "cell_type": "code",
   "execution_count": 84,
   "metadata": {},
   "outputs": [],
   "source": [
    "biology = pd.read_pickle(\"/Users/Troy/Desktop/Data/biology_finalDF\")\n",
    "cooking = pd.read_pickle(\"/Users/Troy/Desktop/Data/cooking_finalDF\")\n",
    "crypto = pd.read_pickle(\"/Users/Troy/Desktop/Data/crypto_finalDF\")\n",
    "diy = pd.read_pickle(\"/Users/Troy/Desktop/Data/diy_finalDF\")\n",
    "robotics = pd.read_pickle(\"/Users/Troy/Desktop/Data/robotics_finalDF\")\n",
    "travel = pd.read_pickle(\"/Users/Troy/Desktop/Data/travel_finalDF\")"
   ]
  },
  {
   "cell_type": "code",
   "execution_count": 107,
   "metadata": {
    "scrolled": true
   },
   "outputs": [
    {
     "name": "stderr",
     "output_type": "stream",
     "text": [
      "/Users/Troy/anaconda3/lib/python3.7/site-packages/ipykernel_launcher.py:1: FutureWarning: Sorting because non-concatenation axis is not aligned. A future version\n",
      "of pandas will change to not sort by default.\n",
      "\n",
      "To accept the future behavior, pass 'sort=False'.\n",
      "\n",
      "To retain the current behavior and silence the warning, pass 'sort=True'.\n",
      "\n",
      "  \"\"\"Entry point for launching an IPython kernel.\n"
     ]
    }
   ],
   "source": [
    "full = pd.concat([travel,robotics, diy, crypto, cooking, biology], axis=0, ignore_index=True)"
   ]
  },
  {
   "cell_type": "code",
   "execution_count": 108,
   "metadata": {},
   "outputs": [],
   "source": [
    "full1 = full.set_index(\"text\").reset_index()\n",
    "full2 = full1.set_index(\"tags\").reset_index()\n",
    "#full2"
   ]
  },
  {
   "cell_type": "code",
   "execution_count": 109,
   "metadata": {},
   "outputs": [],
   "source": [
    "full2 = full2.fillna(0)"
   ]
  },
  {
   "cell_type": "code",
   "execution_count": 110,
   "metadata": {},
   "outputs": [],
   "source": [
    "full2.to_pickle(\"/Users/Troy/Desktop/DataData/full_finalDF\")"
   ]
  }
 ],
 "metadata": {
  "kernelspec": {
   "display_name": "Python 3",
   "language": "python",
   "name": "python3"
  },
  "language_info": {
   "codemirror_mode": {
    "name": "ipython",
    "version": 3
   },
   "file_extension": ".py",
   "mimetype": "text/x-python",
   "name": "python",
   "nbconvert_exporter": "python",
   "pygments_lexer": "ipython3",
   "version": "3.7.3"
  }
 },
 "nbformat": 4,
 "nbformat_minor": 2
}
