{
 "cells": [
  {
   "cell_type": "markdown",
   "metadata": {},
   "source": [
    "### Clean Stack Exchange post text"
   ]
  },
  {
   "cell_type": "code",
   "execution_count": 25,
   "metadata": {},
   "outputs": [],
   "source": [
    "# Import packages.\n",
    "import numpy as np\n",
    "import pandas as pd\n",
    "\n",
    "import re\n",
    "import nltk\n",
    "from nltk.corpus import wordnet"
   ]
  },
  {
   "cell_type": "code",
   "execution_count": 44,
   "metadata": {},
   "outputs": [],
   "source": [
    "def tokenize_text(doc):\n",
    "    \"\"\"Combine the strings in the \"response\" column of dataframe df into one long string. Then, tokenize the\n",
    "    string and make all words lowercase.\"\"\"\n",
    "    \n",
    "    # Combine the col into a string.\n",
    "    #doc = ' '.join(map(str,df[col].tolist()))\n",
    "\n",
    "    # Tokenize and make lowercase.\n",
    "    words = nltk.word_tokenize(doc)\n",
    "    words = [w.lower() for w in words]\n",
    "    \n",
    "    return words\n",
    "\n",
    "\n",
    "def wordnet_pos(tag):\n",
    "    \"\"\"Map a Brown POS tag to a WordNet POS tag.\"\"\"\n",
    "    \n",
    "    table = {\"N\": wordnet.NOUN, \"V\": wordnet.VERB, \"R\": wordnet.ADV, \"J\": wordnet.ADJ}\n",
    "    \n",
    "    # Default to a noun.\n",
    "    return table.get(tag[0], wordnet.NOUN)\n",
    "\n",
    "\n",
    "def lemmatize_text(words):\n",
    "    \"\"\"Lemmatize words to get the base words. The input 'words' is a list of of words.\"\"\"\n",
    "    \n",
    "    lemmatizer = nltk.WordNetLemmatizer()\n",
    "    word_tags = nltk.pos_tag(words)\n",
    "    words = [lemmatizer.lemmatize(w, wordnet_pos(t)) for (w, t) in word_tags]\n",
    "    \n",
    "    return words\n",
    "\n",
    "\n",
    "def remove_stopwords(words):\n",
    "    \"\"\"Remove stopwords from a string.\"\"\"\n",
    "    \n",
    "    stopwords = nltk.corpus.stopwords.words(\"english\")\n",
    "    words = [w for w in words if w not in stopwords]\n",
    "    \n",
    "    return words"
   ]
  },
  {
   "cell_type": "code",
   "execution_count": 97,
   "metadata": {},
   "outputs": [],
   "source": [
    "def clean_text(doc):    \n",
    "    # Tokenize, lemmatize, and remove stopwords for the text of all articles.\n",
    "    words = re.sub(\"< ?/?[a-z]+ ?>|\\n\", \"\", doc)\n",
    "    words = tokenize_text(words)\n",
    "    words = lemmatize_text(words)\n",
    "    words = remove_stopwords(words)\n",
    "    doc = [w for w in words if w.isalnum()]\n",
    "    doc = ' '.join(doc)\n",
    "    \n",
    "    return doc"
   ]
  },
  {
   "cell_type": "code",
   "execution_count": null,
   "metadata": {},
   "outputs": [],
   "source": []
  },
  {
   "cell_type": "code",
   "execution_count": 76,
   "metadata": {},
   "outputs": [],
   "source": [
    "test = pd.read_csv(\"/Users/christinachang/Documents/STA141C/sta-141c-classify/data/biology.csv\")"
   ]
  },
  {
   "cell_type": "code",
   "execution_count": 81,
   "metadata": {},
   "outputs": [],
   "source": [
    "test['text'] = test['title'] + \" \" + test['content']"
   ]
  },
  {
   "cell_type": "code",
   "execution_count": 103,
   "metadata": {},
   "outputs": [
    {
     "data": {
      "text/plain": [
       "\"Text/resource with information on all skeletal muscles and their motor units <p>Something analogous to an encyclopedia on baseball players with a list of all thier stats would be ideal. </p>\\n\\n<p>I'm not looking for just generic muscle names, locations and illustrations.</p>\\n\\n<p>Good answers would include links to resources, textbooks etc. which include stats for most or all of the following of every skeletal muscle in the human anatomy:</p>\\n\\n<ul>\\n<li>Language of origin/LOO definition</li>\\n<li>Labeled by ? shape, location, size etc.</li>\\n<li>Type of Shape (i.e., fusiform, pennate, bipennate, multipennate, convergent, parrellel etc)</li>\\n<li>Angle(s) of pennation (if applicable)</li>\\n<li># of motor neuron innervations</li>\\n<li># of proprioceptors in muscle</li>\\n<li># of fibers</li>\\n<li>Length of muscle</li>\\n<li>Length of fibers</li>\\n<li>Typical fuel system reliance (determined off of biomechanical placement and architecture..CPr, oxidative, etc.)</li>\\n<li>Biomechanical function (structure of corresponding bone/tendon anchors and corresponding movement manipulation)</li>\\n</ul>\\n\""
      ]
     },
     "execution_count": 103,
     "metadata": {},
     "output_type": "execute_result"
    }
   ],
   "source": [
    "test['text'][1000]"
   ]
  },
  {
   "cell_type": "code",
   "execution_count": 102,
   "metadata": {},
   "outputs": [
    {
     "data": {
      "text/plain": [
       "'information skeletal muscle motor unit something analogous encyclopedia baseball player list thier stats would ideal look generic muscle name location answer would include link resource textbook etc include stats following every skeletal muscle human anatomy language definitionlabeled shape location size shape fusiform pennate bipennate multipennate convergent parrellel etc angle pennation applicable motor neuron innervation proprioceptor muscle fiberslength musclelength fiberstypical fuel system reliance determine biomechanical placement oxidative etc biomechanical function structure correspond anchor correspond movement manipulation'"
      ]
     },
     "execution_count": 102,
     "metadata": {},
     "output_type": "execute_result"
    }
   ],
   "source": [
    "clean_text(test['text'][1000])"
   ]
  },
  {
   "cell_type": "code",
   "execution_count": 70,
   "metadata": {},
   "outputs": [
    {
     "data": {
      "text/plain": [
       "\"rnase contamination rna base experiment prevent ?  anyone suggestion prevent rnase contamination work' rna ?   tend issue degradation regardless whether use depc treat / rnase free water filter pipette tips. \""
      ]
     },
     "execution_count": 70,
     "metadata": {},
     "output_type": "execute_result"
    }
   ],
   "source": [
    "test = \"rnase contamination rna base experiment prevent ? < p > anyone suggestion prevent rnase contamination work' rna ? < /p > < p > tend issue degradation regardless whether use depc treat / rnase free water filter pipette tips. < /p >\\n\"\n",
    "re.sub(\"< ?/?[a-z]+ ?>|\\n\", \"\", test)\n",
    "\n"
   ]
  },
  {
   "cell_type": "code",
   "execution_count": null,
   "metadata": {},
   "outputs": [],
   "source": []
  }
 ],
 "metadata": {
  "@webio": {
   "lastCommId": null,
   "lastKernelId": null
  },
  "kernelspec": {
   "display_name": "Python 3",
   "language": "python",
   "name": "python3"
  },
  "language_info": {
   "codemirror_mode": {
    "name": "ipython",
    "version": 3
   },
   "file_extension": ".py",
   "mimetype": "text/x-python",
   "name": "python",
   "nbconvert_exporter": "python",
   "pygments_lexer": "ipython3",
   "version": "3.7.3"
  }
 },
 "nbformat": 4,
 "nbformat_minor": 2
}
